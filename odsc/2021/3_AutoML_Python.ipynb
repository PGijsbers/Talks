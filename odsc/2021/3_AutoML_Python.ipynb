{
 "cells": [
  {
   "cell_type": "markdown",
   "id": "attended-damages",
   "metadata": {},
   "source": [
    "# AutoML in Python"
   ]
  },
  {
   "cell_type": "markdown",
   "id": "nuclear-premiere",
   "metadata": {},
   "source": [
    "This notebook shows how to use AutoML frameworks in Python, using GAMA as example."
   ]
  },
  {
   "cell_type": "code",
   "execution_count": 1,
   "id": "rental-beaver",
   "metadata": {},
   "outputs": [],
   "source": [
    "import warnings\n",
    "warnings.simplefilter(action='ignore', category=FutureWarning)"
   ]
  },
  {
   "cell_type": "markdown",
   "id": "charged-secretary",
   "metadata": {},
   "source": [
    "First we need some data to work with, we use a hold-out task on the Letter dataset:\n"
   ]
  },
  {
   "cell_type": "code",
   "execution_count": 2,
   "id": "connected-fellow",
   "metadata": {},
   "outputs": [
    {
     "data": {
      "text/plain": [
       "'x_train: (13400, 16), x_test: (6600, 16), y_train: (13400,), y_test: (6600,)'"
      ]
     },
     "execution_count": 2,
     "metadata": {},
     "output_type": "execute_result"
    }
   ],
   "source": [
    "import openml\n",
    "letter_holdout = openml.tasks.get_task(236)\n",
    "train, test = letter_holdout.get_train_test_split_indices()\n",
    "x, y = letter_holdout.get_X_and_y()\n",
    "x_train, x_test, y_train, y_test = x[train, :], x[test, :], y[train], y[test]\n",
    "f'x_train: {x_train.shape}, x_test: {x_test.shape}, y_train: {y_train.shape}, y_test: {y_test.shape}'"
   ]
  },
  {
   "cell_type": "markdown",
   "id": "killing-setting",
   "metadata": {},
   "source": [
    "And then we need to configure an AutoML framework, for demonstration purposes we use TPOT, but many AutoML tools follow the same conventions:"
   ]
  },
  {
   "cell_type": "code",
   "execution_count": 3,
   "id": "romantic-prayer",
   "metadata": {},
   "outputs": [
    {
     "name": "stdout",
     "output_type": "stream",
     "text": [
      "Using GAMA version 21.0.0.\n",
      "INIT:GamaClassifier(store=nothing,output_directory=gama_66cdc2b8-5802-41c0-9e26-ed7ce2f922b6,post_processing=BestFitPostProcessing(),search=AsyncEA(),verbosity=20,max_memory_mb=None,n_jobs=None,max_eval_time=None,max_total_time=180,random_state=None,max_pipeline_length=None,regularize_length=True,scoring=accuracy)\n",
      "START: preprocessing default\n",
      "STOP: preprocessing default after 0.0782s.\n",
      "START: search AsyncEA\n",
      "Starting EA with new population.\n",
      "-inf: StandardScaler>RobustScaler>MultinomialNB\n",
      "0.54619: MultinomialNB\n",
      "0.55149: LogisticRegression\n",
      "0.89828: RandomForestClassifier\n",
      "0.93746: MinMaxScaler>RandomForestClassifier\n",
      "0.93336: KNeighborsClassifier\n",
      "0.93985: SelectFwe>MinMaxScaler>RandomForestClassifier\n",
      "Search phase evaluated 100 individuals.\n",
      "STOP: search AsyncEA after 162.0313s.\n",
      "START: postprocess BestFitPostProcessing\n",
      "STOP: postprocess BestFitPostProcessing after 1.8001s.\n"
     ]
    }
   ],
   "source": [
    "import logging\n",
    "from gama import GamaClassifier\n",
    "\n",
    "automl = GamaClassifier(\n",
    "    max_total_time=180,  # seconds\n",
    "    verbosity=logging.INFO,\n",
    "    scoring='accuracy',\n",
    "    store=\"nothing\",\n",
    ")\n",
    "automl.fit(x_train, y_train)"
   ]
  },
  {
   "cell_type": "code",
   "execution_count": 4,
   "id": "junior-police",
   "metadata": {},
   "outputs": [
    {
     "data": {
      "text/plain": [
       "0.9421212121212121"
      ]
     },
     "execution_count": 4,
     "metadata": {},
     "output_type": "execute_result"
    }
   ],
   "source": [
    "automl.score(x_test, y_test)"
   ]
  },
  {
   "cell_type": "markdown",
   "id": "foreign-leonard",
   "metadata": {},
   "source": [
    "## Other Frameworks\n",
    "\n",
    "There are many other AutoML frameworks in Python.\n",
    "Code snippets below require additional dependencies not listed in `requirements.txt`.\n",
    "GAMA follows the scikit-learn conventions, but many other AutoML frameworks in Python do so as well, for example:"
   ]
  },
  {
   "cell_type": "markdown",
   "id": "automotive-registration",
   "metadata": {},
   "source": [
    "*auto-sklearn*"
   ]
  },
  {
   "cell_type": "code",
   "execution_count": null,
   "id": "exceptional-distributor",
   "metadata": {},
   "outputs": [],
   "source": [
    "import autosklearn.classification\n",
    "automl = autosklearn.classification.AutoSklearnClassifier()\n",
    "automl.fit(X_train, y_train)\n",
    "predictions = automl.predict(X_test)"
   ]
  },
  {
   "cell_type": "markdown",
   "id": "handed-regression",
   "metadata": {},
   "source": [
    "*TPOT*"
   ]
  },
  {
   "cell_type": "code",
   "execution_count": null,
   "id": "dietary-damage",
   "metadata": {},
   "outputs": [],
   "source": [
    "from tpot import TPOTClassifier\n",
    "automl = TPOTClassifier()\n",
    "automl.fit(X_train, y_train)\n",
    "predictions = automl.predict(X_test)"
   ]
  },
  {
   "cell_type": "markdown",
   "id": "short-voice",
   "metadata": {},
   "source": [
    "*Auto-PyTorch*"
   ]
  },
  {
   "cell_type": "code",
   "execution_count": null,
   "id": "bronze-howard",
   "metadata": {},
   "outputs": [],
   "source": [
    "from autoPyTorch import AutoNetClassification\n",
    "\n",
    "automl = AutoNetClassification(\"tiny_cs\")  # config preset\n",
    "automl.fit(X_train, y_train, validation_split=0.3)\n",
    "predictions = automl.predict(X_test)"
   ]
  },
  {
   "cell_type": "markdown",
   "id": "alpine-woman",
   "metadata": {},
   "source": [
    "among many others.\n",
    "*note*: Above cells require additional modules to be installed."
   ]
  }
 ],
 "metadata": {
  "kernelspec": {
   "display_name": "Python 3",
   "language": "python",
   "name": "python3"
  },
  "language_info": {
   "codemirror_mode": {
    "name": "ipython",
    "version": 3
   },
   "file_extension": ".py",
   "mimetype": "text/x-python",
   "name": "python",
   "nbconvert_exporter": "python",
   "pygments_lexer": "ipython3",
   "version": "3.6.8"
  }
 },
 "nbformat": 4,
 "nbformat_minor": 5
}
