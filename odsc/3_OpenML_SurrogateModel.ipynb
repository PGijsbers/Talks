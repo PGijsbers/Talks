{
 "cells": [
  {
   "cell_type": "markdown",
   "metadata": {},
   "source": [
    "# Creating a Surrogate Model\n",
    "This tutorial is based on the ['Peronne et al. (2018)' example](https://openml.github.io/openml-python/master/examples/40_paper/2018_neurips_perrone_example.html#sphx-glr-examples-40-paper-2018-neurips-perrone-example-py), but has  modifications to keep it brief."
   ]
  },
  {
   "cell_type": "code",
   "execution_count": 1,
   "metadata": {},
   "outputs": [],
   "source": [
    "import openml\n",
    "import numpy as np\n",
    "import pandas as pd\n",
    "from matplotlib import pyplot as plt\n",
    "from sklearn.pipeline import Pipeline\n",
    "from sklearn.impute import SimpleImputer\n",
    "from sklearn.compose import ColumnTransformer\n",
    "from sklearn.metrics import mean_squared_error\n",
    "from sklearn.preprocessing import OneHotEncoder\n",
    "from sklearn.ensemble import RandomForestRegressor"
   ]
  },
  {
   "cell_type": "markdown",
   "metadata": {},
   "source": [
    "## Downloading Experiment Data\n",
    "In this notebook we create a surrogate model which predicts the AUC of a trained SVM on the Breast Cancer Wisconsin dataset, given the hyperparameter configuration of the SVM. First we download evaluations from OpenML of SVMs on the dataset:"
   ]
  },
  {
   "cell_type": "code",
   "execution_count": 2,
   "metadata": {},
   "outputs": [
    {
     "data": {
      "text/html": [
       "<div>\n",
       "<style scoped>\n",
       "    .dataframe tbody tr th:only-of-type {\n",
       "        vertical-align: middle;\n",
       "    }\n",
       "\n",
       "    .dataframe tbody tr th {\n",
       "        vertical-align: top;\n",
       "    }\n",
       "\n",
       "    .dataframe thead th {\n",
       "        text-align: right;\n",
       "    }\n",
       "</style>\n",
       "<table border=\"1\" class=\"dataframe\">\n",
       "  <thead>\n",
       "    <tr style=\"text-align: right;\">\n",
       "      <th></th>\n",
       "      <th>run_id</th>\n",
       "      <th>task_id</th>\n",
       "      <th>setup_id</th>\n",
       "      <th>flow_id</th>\n",
       "      <th>flow_name</th>\n",
       "      <th>data_id</th>\n",
       "      <th>data_name</th>\n",
       "      <th>function</th>\n",
       "      <th>upload_time</th>\n",
       "      <th>uploader</th>\n",
       "      <th>...</th>\n",
       "      <th>value</th>\n",
       "      <th>values</th>\n",
       "      <th>array_data</th>\n",
       "      <th>mlr.classif.svm(7)_cost</th>\n",
       "      <th>mlr.classif.svm(7)_kernel</th>\n",
       "      <th>mlr.classif.svm(7)_degree</th>\n",
       "      <th>mlr.classif.svm(7)_openml.seed</th>\n",
       "      <th>mlr.classif.svm(7)_openml.kind</th>\n",
       "      <th>mlr.classif.svm(7)_openml.normal.kind</th>\n",
       "      <th>mlr.classif.svm(7)_gamma</th>\n",
       "    </tr>\n",
       "  </thead>\n",
       "  <tbody>\n",
       "    <tr>\n",
       "      <th>0</th>\n",
       "      <td>2186880</td>\n",
       "      <td>145878</td>\n",
       "      <td>300625</td>\n",
       "      <td>5891</td>\n",
       "      <td>mlr.classif.svm(7)</td>\n",
       "      <td>1510</td>\n",
       "      <td>wdbc</td>\n",
       "      <td>area_under_roc_curve</td>\n",
       "      <td>2017-05-17 01:01:22</td>\n",
       "      <td>2702</td>\n",
       "      <td>...</td>\n",
       "      <td>0.906896</td>\n",
       "      <td>None</td>\n",
       "      <td>[0.906896,0.906896]</td>\n",
       "      <td>5.70749295459625</td>\n",
       "      <td>polynomial</td>\n",
       "      <td>2</td>\n",
       "      <td>1</td>\n",
       "      <td>Mersenne-Twister</td>\n",
       "      <td>Inversion</td>\n",
       "      <td>NaN</td>\n",
       "    </tr>\n",
       "    <tr>\n",
       "      <th>1</th>\n",
       "      <td>2186882</td>\n",
       "      <td>145878</td>\n",
       "      <td>300627</td>\n",
       "      <td>5891</td>\n",
       "      <td>mlr.classif.svm(7)</td>\n",
       "      <td>1510</td>\n",
       "      <td>wdbc</td>\n",
       "      <td>area_under_roc_curve</td>\n",
       "      <td>2017-05-17 01:01:51</td>\n",
       "      <td>2702</td>\n",
       "      <td>...</td>\n",
       "      <td>0.925143</td>\n",
       "      <td>None</td>\n",
       "      <td>[0.925143,0.925143]</td>\n",
       "      <td>646.27472639518</td>\n",
       "      <td>NaN</td>\n",
       "      <td>NaN</td>\n",
       "      <td>1</td>\n",
       "      <td>Mersenne-Twister</td>\n",
       "      <td>Inversion</td>\n",
       "      <td>0.87061319511489</td>\n",
       "    </tr>\n",
       "    <tr>\n",
       "      <th>2</th>\n",
       "      <td>2186883</td>\n",
       "      <td>145878</td>\n",
       "      <td>300628</td>\n",
       "      <td>5891</td>\n",
       "      <td>mlr.classif.svm(7)</td>\n",
       "      <td>1510</td>\n",
       "      <td>wdbc</td>\n",
       "      <td>area_under_roc_curve</td>\n",
       "      <td>2017-05-17 01:01:56</td>\n",
       "      <td>2702</td>\n",
       "      <td>...</td>\n",
       "      <td>0.984792</td>\n",
       "      <td>None</td>\n",
       "      <td>[0.984792,0.984792]</td>\n",
       "      <td>1.78584304520995</td>\n",
       "      <td>NaN</td>\n",
       "      <td>NaN</td>\n",
       "      <td>1</td>\n",
       "      <td>Mersenne-Twister</td>\n",
       "      <td>Inversion</td>\n",
       "      <td>0.18626527925297</td>\n",
       "    </tr>\n",
       "    <tr>\n",
       "      <th>3</th>\n",
       "      <td>2186884</td>\n",
       "      <td>145878</td>\n",
       "      <td>300629</td>\n",
       "      <td>5891</td>\n",
       "      <td>mlr.classif.svm(7)</td>\n",
       "      <td>1510</td>\n",
       "      <td>wdbc</td>\n",
       "      <td>area_under_roc_curve</td>\n",
       "      <td>2017-05-17 01:02:02</td>\n",
       "      <td>2702</td>\n",
       "      <td>...</td>\n",
       "      <td>0.984554</td>\n",
       "      <td>None</td>\n",
       "      <td>[0.984554,0.984554]</td>\n",
       "      <td>0.00950674702482963</td>\n",
       "      <td>NaN</td>\n",
       "      <td>NaN</td>\n",
       "      <td>1</td>\n",
       "      <td>Mersenne-Twister</td>\n",
       "      <td>Inversion</td>\n",
       "      <td>0.0163139827387585</td>\n",
       "    </tr>\n",
       "    <tr>\n",
       "      <th>4</th>\n",
       "      <td>2186885</td>\n",
       "      <td>145878</td>\n",
       "      <td>300630</td>\n",
       "      <td>5891</td>\n",
       "      <td>mlr.classif.svm(7)</td>\n",
       "      <td>1510</td>\n",
       "      <td>wdbc</td>\n",
       "      <td>area_under_roc_curve</td>\n",
       "      <td>2017-05-17 01:02:04</td>\n",
       "      <td>2702</td>\n",
       "      <td>...</td>\n",
       "      <td>0.980273</td>\n",
       "      <td>None</td>\n",
       "      <td>[0.980273,0.980273]</td>\n",
       "      <td>617.534395017289</td>\n",
       "      <td>linear</td>\n",
       "      <td>NaN</td>\n",
       "      <td>1</td>\n",
       "      <td>Mersenne-Twister</td>\n",
       "      <td>Inversion</td>\n",
       "      <td>NaN</td>\n",
       "    </tr>\n",
       "  </tbody>\n",
       "</table>\n",
       "<p>5 rows × 21 columns</p>\n",
       "</div>"
      ],
      "text/plain": [
       "    run_id  task_id  setup_id  flow_id           flow_name  data_id data_name  \\\n",
       "0  2186880   145878    300625     5891  mlr.classif.svm(7)     1510      wdbc   \n",
       "1  2186882   145878    300627     5891  mlr.classif.svm(7)     1510      wdbc   \n",
       "2  2186883   145878    300628     5891  mlr.classif.svm(7)     1510      wdbc   \n",
       "3  2186884   145878    300629     5891  mlr.classif.svm(7)     1510      wdbc   \n",
       "4  2186885   145878    300630     5891  mlr.classif.svm(7)     1510      wdbc   \n",
       "\n",
       "               function          upload_time  uploader  ...     value  values  \\\n",
       "0  area_under_roc_curve  2017-05-17 01:01:22      2702  ...  0.906896    None   \n",
       "1  area_under_roc_curve  2017-05-17 01:01:51      2702  ...  0.925143    None   \n",
       "2  area_under_roc_curve  2017-05-17 01:01:56      2702  ...  0.984792    None   \n",
       "3  area_under_roc_curve  2017-05-17 01:02:02      2702  ...  0.984554    None   \n",
       "4  area_under_roc_curve  2017-05-17 01:02:04      2702  ...  0.980273    None   \n",
       "\n",
       "            array_data mlr.classif.svm(7)_cost mlr.classif.svm(7)_kernel  \\\n",
       "0  [0.906896,0.906896]        5.70749295459625                polynomial   \n",
       "1  [0.925143,0.925143]         646.27472639518                       NaN   \n",
       "2  [0.984792,0.984792]        1.78584304520995                       NaN   \n",
       "3  [0.984554,0.984554]     0.00950674702482963                       NaN   \n",
       "4  [0.980273,0.980273]        617.534395017289                    linear   \n",
       "\n",
       "  mlr.classif.svm(7)_degree mlr.classif.svm(7)_openml.seed  \\\n",
       "0                         2                              1   \n",
       "1                       NaN                              1   \n",
       "2                       NaN                              1   \n",
       "3                       NaN                              1   \n",
       "4                       NaN                              1   \n",
       "\n",
       "  mlr.classif.svm(7)_openml.kind mlr.classif.svm(7)_openml.normal.kind  \\\n",
       "0               Mersenne-Twister                             Inversion   \n",
       "1               Mersenne-Twister                             Inversion   \n",
       "2               Mersenne-Twister                             Inversion   \n",
       "3               Mersenne-Twister                             Inversion   \n",
       "4               Mersenne-Twister                             Inversion   \n",
       "\n",
       "  mlr.classif.svm(7)_gamma  \n",
       "0                      NaN  \n",
       "1         0.87061319511489  \n",
       "2         0.18626527925297  \n",
       "3       0.0163139827387585  \n",
       "4                      NaN  \n",
       "\n",
       "[5 rows x 21 columns]"
      ]
     },
     "execution_count": 2,
     "metadata": {},
     "output_type": "execute_result"
    }
   ],
   "source": [
    "evaluations = openml.evaluations.list_evaluations_setups(\n",
    "     function='area_under_roc_curve',\n",
    "     task=[145878],\n",
    "     flow=[5891],\n",
    "     uploader=[2702],\n",
    "     output_format='dataframe',\n",
    "     parameters_in_separate_columns=True\n",
    ")\n",
    "evaluations.head()"
   ]
  },
  {
   "cell_type": "markdown",
   "metadata": {},
   "source": [
    "## Preparing to train a surrogate model\n",
    "\n",
    "For this application, we are only interested in the SVMs hyperparameters and their AUC scores. In this example, we restrict ourselves to four of the SVM hyperparameters: cost, degree, gamma and kernel."
   ]
  },
  {
   "cell_type": "code",
   "execution_count": 3,
   "metadata": {},
   "outputs": [
    {
     "data": {
      "text/html": [
       "<div>\n",
       "<style scoped>\n",
       "    .dataframe tbody tr th:only-of-type {\n",
       "        vertical-align: middle;\n",
       "    }\n",
       "\n",
       "    .dataframe tbody tr th {\n",
       "        vertical-align: top;\n",
       "    }\n",
       "\n",
       "    .dataframe thead th {\n",
       "        text-align: right;\n",
       "    }\n",
       "</style>\n",
       "<table border=\"1\" class=\"dataframe\">\n",
       "  <thead>\n",
       "    <tr style=\"text-align: right;\">\n",
       "      <th></th>\n",
       "      <th>cost</th>\n",
       "      <th>degree</th>\n",
       "      <th>gamma</th>\n",
       "      <th>kernel</th>\n",
       "    </tr>\n",
       "  </thead>\n",
       "  <tbody>\n",
       "    <tr>\n",
       "      <th>0</th>\n",
       "      <td>5.70749295459625</td>\n",
       "      <td>2</td>\n",
       "      <td>NaN</td>\n",
       "      <td>polynomial</td>\n",
       "    </tr>\n",
       "    <tr>\n",
       "      <th>1</th>\n",
       "      <td>646.27472639518</td>\n",
       "      <td>NaN</td>\n",
       "      <td>0.87061319511489</td>\n",
       "      <td>NaN</td>\n",
       "    </tr>\n",
       "    <tr>\n",
       "      <th>2</th>\n",
       "      <td>1.78584304520995</td>\n",
       "      <td>NaN</td>\n",
       "      <td>0.18626527925297</td>\n",
       "      <td>NaN</td>\n",
       "    </tr>\n",
       "    <tr>\n",
       "      <th>3</th>\n",
       "      <td>0.00950674702482963</td>\n",
       "      <td>NaN</td>\n",
       "      <td>0.0163139827387585</td>\n",
       "      <td>NaN</td>\n",
       "    </tr>\n",
       "    <tr>\n",
       "      <th>4</th>\n",
       "      <td>617.534395017289</td>\n",
       "      <td>NaN</td>\n",
       "      <td>NaN</td>\n",
       "      <td>linear</td>\n",
       "    </tr>\n",
       "  </tbody>\n",
       "</table>\n",
       "</div>"
      ],
      "text/plain": [
       "                  cost degree               gamma      kernel\n",
       "0     5.70749295459625      2                 NaN  polynomial\n",
       "1      646.27472639518    NaN    0.87061319511489         NaN\n",
       "2     1.78584304520995    NaN    0.18626527925297         NaN\n",
       "3  0.00950674702482963    NaN  0.0163139827387585         NaN\n",
       "4     617.534395017289    NaN                 NaN      linear"
      ]
     },
     "execution_count": 3,
     "metadata": {},
     "output_type": "execute_result"
    }
   ],
   "source": [
    "evaluations.columns = [column.split('_')[-1] for column in evaluations.columns]\n",
    "hyperparameters = ['cost', 'degree', 'gamma', 'kernel']\n",
    "x, y = evaluations.loc[:, hyperparameters], evaluations.loc[:, 'value']\n",
    "x.head()"
   ]
  },
  {
   "cell_type": "code",
   "execution_count": 4,
   "metadata": {},
   "outputs": [
    {
     "data": {
      "text/plain": [
       "0    0.906896\n",
       "1    0.925143\n",
       "2    0.984792\n",
       "3    0.984554\n",
       "4    0.980273\n",
       "Name: value, dtype: float64"
      ]
     },
     "execution_count": 4,
     "metadata": {},
     "output_type": "execute_result"
    }
   ],
   "source": [
    "y.head()"
   ]
  },
  {
   "cell_type": "markdown",
   "metadata": {},
   "source": [
    "As we saw, the hyperparameter data has some missing values and categorical data (i.e. kernel column).\n",
    "We are going to use scikit-learn's RandomForestRegressor to train a surrogate model, which does not allow for non-numeric data or missing values. To that end, we need to sanitize the input first.\n",
    "We will encode the kernel column with one-hot encoding, and impute missing values."
   ]
  },
  {
   "cell_type": "code",
   "execution_count": 5,
   "metadata": {},
   "outputs": [],
   "source": [
    "# Separating data into categorical and non-categorical (numeric for this example) columns\n",
    "cat_cols = ['kernel']\n",
    "num_cols = list(set(hyperparameters) - set(cat_cols))\n",
    "\n",
    "# Missing value imputers\n",
    "cat_imputer = SimpleImputer(missing_values=np.nan, strategy='constant', fill_value='None')\n",
    "num_imputer = SimpleImputer(missing_values=np.nan, strategy='constant', fill_value=-1)\n",
    "\n",
    "# Creating the one-hot encoder\n",
    "enc = OneHotEncoder(handle_unknown='ignore')\n",
    "\n",
    "# Pipeline to handle categorical column transformations\n",
    "cat_transforms = Pipeline(steps=[('impute', cat_imputer), ('encode', enc)])\n",
    "\n",
    "# Combining column transformers\n",
    "ct = ColumnTransformer([('cat', cat_transforms, cat_cols), ('num', num_imputer, num_cols)])\n",
    "\n",
    "# Creating the full pipeline with the surrogate model\n",
    "clf = RandomForestRegressor(n_estimators=50)\n",
    "model = Pipeline(steps=[('preprocess', ct), ('surrogate', clf)])"
   ]
  },
  {
   "cell_type": "markdown",
   "metadata": {},
   "source": [
    "## Training and using the surrogate model\n",
    "\n",
    "With our pipeline sanitizing the input, we can train the full pipeline (and calculate training RMSE):"
   ]
  },
  {
   "cell_type": "code",
   "execution_count": 6,
   "metadata": {},
   "outputs": [
    {
     "name": "stdout",
     "output_type": "stream",
     "text": [
      "Training RMSE : 1.814e-05\n"
     ]
    }
   ],
   "source": [
    "model.fit(x, y)\n",
    "y_pred = model.predict(x)\n",
    "\n",
    "print(\"Training RMSE : {:.5}\".format(mean_squared_error(y, y_pred)))"
   ]
  },
  {
   "cell_type": "markdown",
   "metadata": {},
   "source": [
    "We will now use this surrogate model to find the regret of applying Random Search for this task.\n",
    "We sample 10000 hyperparameter configurations and predict their performance with our surrogate model."
   ]
  },
  {
   "cell_type": "code",
   "execution_count": 7,
   "metadata": {},
   "outputs": [
    {
     "data": {
      "text/plain": [
       "Text(0, 0.5, 'AUC')"
      ]
     },
     "execution_count": 7,
     "metadata": {},
     "output_type": "execute_result"
    },
    {
     "data": {
      "image/png": "[encoded data removed]",
      "text/plain": [
       "<Figure size 432x288 with 1 Axes>"
      ]
     },
     "metadata": {
      "needs_background": "light"
     },
     "output_type": "display_data"
    }
   ],
   "source": [
    "for i in range(1):\n",
    "    num_samples = 10000\n",
    "    ranges = [(0.000986, 998.492437),  # cost\n",
    "              (2.0, 5.0),  # degree\n",
    "              (0.000988, 913.373845),  # gamma\n",
    "              (['linear', 'polynomial', 'radial', 'sigmoid'])]  # kernel\n",
    "    X = pd.DataFrame(np.nan, index=range(num_samples), columns=hyperparameters)\n",
    "    for i, range_ in enumerate(ranges):\n",
    "        if len(range_) == 2:\n",
    "            col_val = np.random.uniform(low=range_[0], high=range_[1], size=num_samples)\n",
    "        else:\n",
    "            col_val = np.random.choice(range_, size=num_samples)\n",
    "        X.iloc[:, i] = col_val\n",
    "\n",
    "    preds = model.predict(X)\n",
    "\n",
    "    # tracking the maximum AUC obtained over the functions evaluations\n",
    "    best_so_far_auc = np.maximum.accumulate(preds)\n",
    "\n",
    "    # plotting the regret curve\n",
    "    plt.plot(best_so_far_auc)\n",
    "\n",
    "\n",
    "plt.title('AUC for Random Search on Surrogate')\n",
    "plt.xlabel('Number of function evaluations')\n",
    "plt.ylabel('AUC')"
   ]
  },
  {
   "cell_type": "markdown",
   "metadata": {},
   "source": [
    "Of course there's much more to do here. Create a better aggregate plot for multiple generated random search results or evaluate the surrogate model on unseen data!"
   ]
  },
  {
   "cell_type": "markdown",
   "metadata": {},
   "source": [
    "This concludes our look at the `openml-python` API. \n",
    "If you're interested in learning more about the package, visit the [documentation](https://openml.github.io/openml-python/master/).\n",
    "If you need help or find bugs visit our Github repository at [OpenML/openml-python](https://github.com/openml/openml-python)."
   ]
  },
  {
   "cell_type": "markdown",
   "metadata": {},
   "source": [
    "---\n",
    "Code in this notebook is in part taken from openml-python under the BSD-3-Clause license, see `Talks\\odsc\\LICENSE`."
   ]
  }
 ],
 "metadata": {
  "kernelspec": {
   "display_name": "Python 3",
   "language": "python",
   "name": "python3"
  },
  "language_info": {
   "codemirror_mode": {
    "name": "ipython",
    "version": 3
   },
   "file_extension": ".py",
   "mimetype": "text/x-python",
   "name": "python",
   "nbconvert_exporter": "python",
   "pygments_lexer": "ipython3",
   "version": "3.6.9"
  }
 },
 "nbformat": 4,
 "nbformat_minor": 2
}
