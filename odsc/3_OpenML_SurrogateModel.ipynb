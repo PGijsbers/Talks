{
 "cells": [
  {
   "cell_type": "markdown",
   "metadata": {},
   "source": [
    "# Creating a Surrogate Model\n",
    "This tutorial covers the ['Peronne et al. (2018)' example](https://openml.github.io/openml-python/master/examples/40_paper/2018_neurips_perrone_example.html#sphx-glr-examples-40-paper-2018-neurips-perrone-example-py), but has minor modifications for the purpose of the tutorial."
   ]
  },
  {
   "cell_type": "markdown",
   "metadata": {},
   "source": [
    "This tutorial shows how to build a surrogate model based on OpenML data as done for *Scalable\n",
    "Hyperparameter Transfer Learning* by Perrone et al..\n",
    "\n",
    "> Scalable Hyperparameter Transfer Learning\n",
    "> Valerio Perrone and Rodolphe Jenatton and Matthias Seeger and Cedric Archambeau\n",
    "> In *Advances in Neural Information Processing Systems 31*, 2018\n",
    "> Available at http://papers.nips.cc/paper/7917-scalable-hyperparameter-transfer-learning.pdf"
   ]
  },
  {
   "cell_type": "markdown",
   "metadata": {},
   "source": [
    "In the following section, we shall do the following:\n",
    "\n",
    "* Retrieve tasks and flows as used in the experiments by Perrone et al. (2018).\n",
    "* Build a tabular data by fetching the evaluations uploaded to OpenML.\n",
    "* Impute missing values and handle categorical data before building a Random Forest model that\n",
    "  maps hyperparameter values to the area under curve score."
   ]
  },
  {
   "cell_type": "code",
   "execution_count": 1,
   "metadata": {},
   "outputs": [],
   "source": [
    "import openml\n",
    "import numpy as np\n",
    "import pandas as pd\n",
    "from matplotlib import pyplot as plt\n",
    "from sklearn.pipeline import Pipeline\n",
    "from sklearn.impute import SimpleImputer\n",
    "from sklearn.compose import ColumnTransformer\n",
    "from sklearn.metrics import mean_squared_error\n",
    "from sklearn.preprocessing import OneHotEncoder\n",
    "from sklearn.ensemble import RandomForestRegressor"
   ]
  },
  {
   "cell_type": "code",
   "execution_count": 2,
   "metadata": {},
   "outputs": [],
   "source": [
    "flow_type = 'svm'"
   ]
  },
  {
   "cell_type": "markdown",
   "metadata": {},
   "source": [
    "The subsequent functions are defined to fetch tasks, flows, evaluations and preprocess them into a tabular format that can be used to build models."
   ]
  },
  {
   "cell_type": "code",
   "execution_count": 3,
   "metadata": {},
   "outputs": [],
   "source": [
    "def fetch_evaluations(run_full=False,\n",
    "                      flow_type='svm',\n",
    "                      metric='area_under_roc_curve'):\n",
    "    '''\n",
    "    Fetch a list of evaluations based on the flows and tasks used in the experiments.\n",
    "\n",
    "    Parameters\n",
    "    ----------\n",
    "    run_full : boolean\n",
    "        If True, use the full list of tasks used in the paper\n",
    "        If False, use 5 tasks with the smallest number of evaluations available\n",
    "    flow_type : str, {'svm', 'xgboost'}\n",
    "        To select whether svm or xgboost experiments are to be run\n",
    "    metric : str\n",
    "        The evaluation measure that is passed to openml.evaluations.list_evaluations\n",
    "\n",
    "    Returns\n",
    "    -------\n",
    "    eval_df : dataframe\n",
    "    task_ids : list\n",
    "    flow_id : int\n",
    "    '''\n",
    "    # Collecting task IDs as used by the experiments from the paper\n",
    "    if flow_type == 'svm' and run_full:\n",
    "        task_ids = [\n",
    "            10101, 145878, 146064, 14951, 34537, 3485, 3492, 3493, 3494,\n",
    "            37, 3889, 3891, 3899, 3902, 3903, 3913, 3918, 3950, 9889,\n",
    "            9914, 9946, 9952, 9967, 9971, 9976, 9978, 9980, 9983,\n",
    "        ]\n",
    "    elif flow_type == 'svm' and not run_full:\n",
    "        task_ids = [9983, 3485, 3902, 3903, 145878]\n",
    "    elif flow_type == 'xgboost' and run_full:\n",
    "        task_ids = [\n",
    "            10093, 10101, 125923, 145847, 145857, 145862, 145872, 145878,\n",
    "            145953, 145972, 145976, 145979, 146064, 14951, 31, 3485,\n",
    "            3492, 3493, 37, 3896, 3903, 3913, 3917, 3918, 3, 49, 9914,\n",
    "            9946, 9952, 9967,\n",
    "        ]\n",
    "    else:  # flow_type == 'xgboost' and not run_full:\n",
    "        task_ids = [3903, 37, 3485, 49, 3913]\n",
    "\n",
    "    # Fetching the relevant flow\n",
    "    flow_id = 5891 if flow_type == 'svm' else 6767\n",
    "\n",
    "    # Fetching evaluations\n",
    "    eval_df = openml.evaluations.list_evaluations_setups(function=metric,\n",
    "                                                         task=task_ids,\n",
    "                                                         flow=[flow_id],\n",
    "                                                         uploader=[2702],\n",
    "                                                         output_format='dataframe',\n",
    "                                                         parameters_in_separate_columns=True)\n",
    "    return eval_df, task_ids, flow_id\n",
    "\n",
    "\n",
    "def create_table_from_evaluations(eval_df,\n",
    "                                  flow_type='svm',\n",
    "                                  run_count=np.iinfo(np.int64).max,\n",
    "                                  task_ids=None):\n",
    "    '''\n",
    "    Create a tabular data with its ground truth from a dataframe of evaluations.\n",
    "    Optionally, can filter out records based on task ids.\n",
    "\n",
    "    Parameters\n",
    "    ----------\n",
    "    eval_df : dataframe\n",
    "        Containing list of runs as obtained from list_evaluations()\n",
    "    flow_type : str, {'svm', 'xgboost'}\n",
    "        To select whether svm or xgboost experiments are to be run\n",
    "    run_count : int\n",
    "        Maximum size of the table created, or number of runs included in the table\n",
    "    task_ids : list, (optional)\n",
    "        List of integers specifying the tasks to be retained from the evaluations dataframe\n",
    "\n",
    "    Returns\n",
    "    -------\n",
    "    eval_table : dataframe\n",
    "    values : list\n",
    "    '''\n",
    "    if task_ids is not None:\n",
    "        eval_df = eval_df[eval_df['task_id'].isin(task_ids)]\n",
    "    if flow_type == 'svm':\n",
    "        colnames = ['cost', 'degree', 'gamma', 'kernel']\n",
    "    else:\n",
    "        colnames = [\n",
    "            'alpha', 'booster', 'colsample_bylevel', 'colsample_bytree',\n",
    "            'eta', 'lambda', 'max_depth', 'min_child_weight', 'nrounds',\n",
    "            'subsample',\n",
    "        ]\n",
    "    eval_df = eval_df.sample(frac=1)  # shuffling rows\n",
    "    eval_df = eval_df.iloc[:run_count, :]\n",
    "    eval_df.columns = [column.split('_')[-1] for column in eval_df.columns]\n",
    "    eval_table = eval_df.loc[:, colnames]\n",
    "    value = eval_df.loc[:, 'value']\n",
    "    return eval_table, value\n",
    "\n",
    "\n",
    "def list_categorical_attributes(flow_type='svm'):\n",
    "    if flow_type == 'svm':\n",
    "        return ['kernel']\n",
    "    return ['booster']"
   ]
  },
  {
   "cell_type": "markdown",
   "metadata": {},
   "source": [
    "Fetching the data from OpenML\n",
    "\n",
    "Now, we read all the tasks and evaluations for them and collate into a table.\n",
    "Here, we are reading all the tasks and evaluations for the SVM flow and\n",
    "pre-processing all retrieved evaluations."
   ]
  },
  {
   "cell_type": "code",
   "execution_count": 4,
   "metadata": {},
   "outputs": [
    {
     "name": "stdout",
     "output_type": "stream",
     "text": [
      "                    cost degree gamma      kernel\n",
      "3599    261.465945070384    NaN   NaN      linear\n",
      "3023  0.0313660181953416    NaN   NaN      linear\n",
      "4791   0.187281947813698    NaN   NaN      linear\n",
      "1808   0.022612304291308      2   NaN  polynomial\n",
      "4316    255.419773068389    NaN   NaN      linear\n",
      "Y :  3599    0.679449\n",
      "3023    0.717351\n",
      "4791    0.994477\n",
      "1808    0.753039\n",
      "4316    0.984343\n",
      "Name: value, dtype: float64\n"
     ]
    }
   ],
   "source": [
    "eval_df, task_ids, flow_id = fetch_evaluations(run_full=False, flow_type=flow_type)\n",
    "X, y = create_table_from_evaluations(eval_df, flow_type=flow_type)\n",
    "print(X.head())\n",
    "print(\"Y : \", y[:5])"
   ]
  },
  {
   "cell_type": "markdown",
   "metadata": {},
   "source": [
    "Creating pre-processing and modelling pipelines\n",
    "\n",
    "The two primary tasks are to impute the missing values, that is, account for the hyperparameters\n",
    "that are not available with the runs from OpenML. And secondly, to handle categorical variables\n",
    "using One-hot encoding prior to modelling."
   ]
  },
  {
   "cell_type": "code",
   "execution_count": 5,
   "metadata": {},
   "outputs": [],
   "source": [
    "# Separating data into categorical and non-categorical (numeric for this example) columns\n",
    "cat_cols = list_categorical_attributes(flow_type=flow_type)\n",
    "num_cols = list(set(X.columns) - set(cat_cols))\n",
    "\n",
    "# Missing value imputers\n",
    "cat_imputer = SimpleImputer(missing_values=np.nan, strategy='constant', fill_value='None')\n",
    "num_imputer = SimpleImputer(missing_values=np.nan, strategy='constant', fill_value=-1)\n",
    "\n",
    "# Creating the one-hot encoder\n",
    "enc = OneHotEncoder(handle_unknown='ignore')\n",
    "\n",
    "# Pipeline to handle categorical column transformations\n",
    "cat_transforms = Pipeline(steps=[('impute', cat_imputer), ('encode', enc)])\n",
    "\n",
    "# Combining column transformers\n",
    "ct = ColumnTransformer([('cat', cat_transforms, cat_cols), ('num', num_imputer, num_cols)])\n",
    "\n",
    "# Creating the full pipeline with the surrogate model\n",
    "clf = RandomForestRegressor(n_estimators=50)\n",
    "model = Pipeline(steps=[('preprocess', ct), ('surrogate', clf)])"
   ]
  },
  {
   "cell_type": "markdown",
   "metadata": {},
   "source": [
    "Building a surrogate model on a task's evaluation\n",
    "\n",
    "The same set of functions can be used for a single task to retrieve a singular table which can\n",
    "time simple and quick."
   ]
  },
  {
   "cell_type": "code",
   "execution_count": 6,
   "metadata": {},
   "outputs": [
    {
     "name": "stdout",
     "output_type": "stream",
     "text": [
      "Task ID :  145878\n",
      "Training RMSE : 1.8366e-05\n"
     ]
    }
   ],
   "source": [
    "# Selecting a task for the surrogate\n",
    "task_id = task_ids[-1]\n",
    "print(\"Task ID : \", task_id)\n",
    "X, y = create_table_from_evaluations(eval_df, task_ids=[task_id], flow_type='svm')\n",
    "\n",
    "model.fit(X, y)\n",
    "y_pred = model.predict(X)\n",
    "\n",
    "print(\"Training RMSE : {:.5}\".format(mean_squared_error(y, y_pred)))"
   ]
  },
  {
   "cell_type": "markdown",
   "metadata": {},
   "source": [
    "Evaluating the surrogate model\n",
    "\n",
    "The surrogate model built from a task's evaluations fetched from OpenML will be put into\n",
    "trivial action here, where we shall randomly sample configurations and observe the trajectory\n",
    "of the area under curve (auc) we can obtain from the surrogate we've built.\n",
    "\n",
    "NOTE: This section is written exclusively for the SVM flow"
   ]
  },
  {
   "cell_type": "code",
   "execution_count": 7,
   "metadata": {},
   "outputs": [
    {
     "name": "stdout",
     "output_type": "stream",
     "text": [
      "           cost    degree       gamma      kernel\n",
      "0    749.731462  4.136571  647.759571      radial\n",
      "1    472.533193  3.634767  849.340724      radial\n",
      "2    414.281979  2.069189  705.039909  polynomial\n",
      "3    490.268410  3.244405  579.853754      radial\n",
      "4    274.619825  2.328614  826.057505     sigmoid\n",
      "..          ...       ...         ...         ...\n",
      "995   50.793854  3.419767  542.024001      linear\n",
      "996    0.408474  4.816944  850.247922      radial\n",
      "997  583.808226  3.069715  533.363804      radial\n",
      "998  903.661225  4.654890  861.177117     sigmoid\n",
      "999  962.437539  2.682804  790.134404     sigmoid\n",
      "\n",
      "[1000 rows x 4 columns]\n"
     ]
    },
    {
     "data": {
      "text/plain": [
       "Text(0, 0.5, 'Regret')"
      ]
     },
     "execution_count": 7,
     "metadata": {},
     "output_type": "execute_result"
    },
    {
     "data": {
      "image/png": "[encoded data removed]",
      "text/plain": [
       "<Figure size 432x288 with 1 Axes>"
      ]
     },
     "metadata": {
      "needs_background": "light"
     },
     "output_type": "display_data"
    }
   ],
   "source": [
    "# Sampling random configurations\n",
    "def random_sample_configurations(num_samples=100):\n",
    "    colnames = ['cost', 'degree', 'gamma', 'kernel']\n",
    "    ranges = [(0.000986, 998.492437),\n",
    "              (2.0, 5.0),\n",
    "              (0.000988, 913.373845),\n",
    "              (['linear', 'polynomial', 'radial', 'sigmoid'])]\n",
    "    X = pd.DataFrame(np.nan, index=range(num_samples), columns=colnames)\n",
    "    for i in range(len(colnames)):\n",
    "        if len(ranges[i]) == 2:\n",
    "            col_val = np.random.uniform(low=ranges[i][0], high=ranges[i][1], size=num_samples)\n",
    "        else:\n",
    "            col_val = np.random.choice(ranges[i], size=num_samples)\n",
    "        X.iloc[:, i] = col_val\n",
    "    return X\n",
    "\n",
    "\n",
    "configs = random_sample_configurations(num_samples=1000)\n",
    "print(configs)\n",
    "\n",
    "#############################################################################\n",
    "preds = model.predict(configs)\n",
    "\n",
    "# tracking the maximum AUC obtained over the functions evaluations\n",
    "preds = np.maximum.accumulate(preds)\n",
    "# computing regret (1 - predicted_auc)\n",
    "regret = 1 - preds\n",
    "\n",
    "# plotting the regret curve\n",
    "plt.plot(regret)\n",
    "plt.title('AUC regret for Random Search on surrogate')\n",
    "plt.xlabel('Numbe of function evaluations')\n",
    "plt.ylabel('Regret')\n"
   ]
  },
  {
   "cell_type": "markdown",
   "metadata": {},
   "source": [
    "---\n",
    "Code in this notebook is in large part taken from openml-python under the BSD-3-Clause license, see `Talks\\odsc\\LICENSE`."
   ]
  }
 ],
 "metadata": {
  "kernelspec": {
   "display_name": "Python 3",
   "language": "python",
   "name": "python3"
  },
  "language_info": {
   "codemirror_mode": {
    "name": "ipython",
    "version": 3
   },
   "file_extension": ".py",
   "mimetype": "text/x-python",
   "name": "python",
   "nbconvert_exporter": "python",
   "pygments_lexer": "ipython3",
   "version": "3.6.9"
  }
 },
 "nbformat": 4,
 "nbformat_minor": 2
}
